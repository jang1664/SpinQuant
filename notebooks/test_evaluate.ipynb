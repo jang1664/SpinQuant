{
 "cells": [
  {
   "cell_type": "code",
   "execution_count": null,
   "id": "0",
   "metadata": {},
   "outputs": [],
   "source": [
    "import torch\n",
    "from transformers import AutoTokenizer, AutoModelForCausalLM\n",
    "import lm_eval\n",
    "from lm_eval.utils import setup_logging\n",
    "from lm_eval.models.huggingface import HFLM"
   ]
  },
  {
   "cell_type": "code",
   "execution_count": null,
   "id": "1",
   "metadata": {},
   "outputs": [],
   "source": [
    "tokenizer = AutoTokenizer.from_pretrained(\"meta-llama/Llama-3.2-1B\")\n",
    "model = AutoModelForCausalLM.from_pretrained(\"meta-llama/Llama-3.2-1B\")\n",
    "\n",
    "device = torch.device(\"cuda\" if torch.cuda.is_available() else \"cpu\")\n",
    "model.eval().to(device)\n",
    "# prompt = \"Explain the importance of reinforcement learning in AI.\"\n",
    "# inputs = tokenizer(prompt, return_tensors=\"pt\").to(device)\n",
    "# output = model.generate(\n",
    "#     **inputs,\n",
    "#     max_length=100\n",
    "# )\n",
    "\n",
    "# # Decode the output tokens into text\n",
    "# generated_text = tokenizer.decode(output[0], skip_special_tokens=True)\n",
    "\n",
    "# print(\"output:\")\n",
    "# print(generated_text)\n",
    "\n",
    "\n",
    "# Optional: configure logging"
   ]
  },
  {
   "cell_type": "code",
   "execution_count": null,
   "id": "2",
   "metadata": {},
   "outputs": [],
   "source": [
    "setup_logging(\"DEBUG\")\n",
    "\n",
    "hf_model = HFLM(pretrained=model, tokenizer=tokenizer)\n",
    "\n",
    "results = lm_eval.simple_evaluate(\n",
    "    model=hf_model,\n",
    "    tasks=[\"hellaswag\"],   # List of task names\n",
    "    num_fewshot=0,                 # Zero-shot by default\n",
    "    batch_size=8,\n",
    "    limit=16                     # Use full datasets\n",
    ")"
   ]
  },
  {
   "cell_type": "code",
   "execution_count": null,
   "id": "3",
   "metadata": {},
   "outputs": [],
   "source": [
    "print(results['results'])"
   ]
  },
  {
   "cell_type": "code",
   "execution_count": null,
   "id": "4",
   "metadata": {},
   "outputs": [],
   "source": []
  },
  {
   "cell_type": "code",
   "execution_count": null,
   "id": "5",
   "metadata": {},
   "outputs": [],
   "source": [
    "from transformers import (\n",
    "    AutoConfig,\n",
    "    AutoModelForCausalLM,\n",
    "    AutoTokenizer,\n",
    ")\n",
    "\n",
    "# 1) After training or fine-tuning, you have:\n",
    "#    - `model` : a PreTrainedModel (e.g. GPT2LMHeadModel, T5ForConditionalGeneration, etc.)\n",
    "#    - `tokenizer` : its corresponding PreTrainedTokenizer\n",
    "\n",
    "# Example: load a base model, fine-tune it somehow...\n",
    "# ... your training loop here ...\n",
    "\n",
    "# 2) Choose a directory to save to (it can be local or a path for a Hub repo)\n",
    "save_directory = \"./my_llama\"\n",
    "\n",
    "# 3) Save the model + config\n",
    "model.save_pretrained(save_directory)\n",
    "#    → writes config.json and pytorch_model.bin\n",
    "\n",
    "# 4) Save the tokenizer\n",
    "tokenizer.save_pretrained(save_directory)\n",
    "#    → writes tokenizer.json (or vocab.txt + merges.txt, depending on tokenizer)\n",
    "\n",
    "print(f\"Model + tokenizer saved to {save_directory}\")"
   ]
  },
  {
   "cell_type": "code",
   "execution_count": null,
   "id": "6",
   "metadata": {},
   "outputs": [],
   "source": [
    "import evaluate\n",
    "from datasets import load_dataset\n",
    "\n",
    "# 1. Load the metric\n",
    "perplexity = evaluate.load(\"perplexity\", module_type=\"metric\")\n",
    "\n",
    "# 2. Load WikiText-2 test set and filter out empty lines\n",
    "dataset = load_dataset(\"wikitext\", \"wikitext-2-raw-v1\", split=\"test\")\n",
    "texts = [t for t in dataset[\"text\"] if t and not t.isspace()]\n",
    "\n",
    "# 3. Compute perplexity in one shot, letting the metric handle internal batching\n",
    "results = perplexity.compute(\n",
    "    model_id=\"./my_llama\",\n",
    "    predictions=texts,          # List[str] of input texts\n",
    "    batch_size=8,               # How many texts per device-forward\n",
    "    device=\"cuda\",              # or \"cpu\"\n",
    "    add_start_token=False       # match your use case; defaults to True\n",
    ")\n",
    "\n",
    "print(f\"Mean perplexity: {results['mean_perplexity']:.2f}\")\n",
    "# Optionally inspect per‐example scores:\n",
    "# print(results[\"perplexities\"][:5])"
   ]
  },
  {
   "cell_type": "code",
   "execution_count": null,
   "id": "7",
   "metadata": {},
   "outputs": [],
   "source": [
    "len(results[\"perplexities\"])"
   ]
  },
  {
   "cell_type": "code",
   "execution_count": null,
   "id": "8",
   "metadata": {},
   "outputs": [],
   "source": []
  }
 ],
 "metadata": {
  "kernelspec": {
   "display_name": "spinquant",
   "language": "python",
   "name": "python3"
  },
  "language_info": {
   "codemirror_mode": {
    "name": "ipython",
    "version": 3
   },
   "file_extension": ".py",
   "mimetype": "text/x-python",
   "name": "python",
   "nbconvert_exporter": "python",
   "pygments_lexer": "ipython3",
   "version": "3.10.16"
  }
 },
 "nbformat": 4,
 "nbformat_minor": 5
}
