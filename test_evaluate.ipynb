{
 "cells": [
  {
   "cell_type": "code",
   "execution_count": 13,
   "id": "db5e668a",
   "metadata": {},
   "outputs": [],
   "source": [
    "import torch\n",
    "from transformers import AutoTokenizer, AutoModelForCausalLM\n",
    "import lm_eval\n",
    "from lm_eval.utils import setup_logging\n",
    "from lm_eval.models.huggingface import HFLM"
   ]
  },
  {
   "cell_type": "code",
   "execution_count": 14,
   "id": "31961d8f",
   "metadata": {},
   "outputs": [
    {
     "data": {
      "text/plain": [
       "LlamaForCausalLM(\n",
       "  (model): LlamaModel(\n",
       "    (embed_tokens): Embedding(128256, 2048)\n",
       "    (layers): ModuleList(\n",
       "      (0-15): 16 x LlamaDecoderLayer(\n",
       "        (self_attn): LlamaSdpaAttention(\n",
       "          (q_proj): Linear(in_features=2048, out_features=2048, bias=False)\n",
       "          (k_proj): Linear(in_features=2048, out_features=512, bias=False)\n",
       "          (v_proj): Linear(in_features=2048, out_features=512, bias=False)\n",
       "          (o_proj): Linear(in_features=2048, out_features=2048, bias=False)\n",
       "          (rotary_emb): LlamaRotaryEmbedding()\n",
       "        )\n",
       "        (mlp): LlamaMLP(\n",
       "          (gate_proj): Linear(in_features=2048, out_features=8192, bias=False)\n",
       "          (up_proj): Linear(in_features=2048, out_features=8192, bias=False)\n",
       "          (down_proj): Linear(in_features=8192, out_features=2048, bias=False)\n",
       "          (act_fn): SiLU()\n",
       "        )\n",
       "        (input_layernorm): LlamaRMSNorm((2048,), eps=1e-05)\n",
       "        (post_attention_layernorm): LlamaRMSNorm((2048,), eps=1e-05)\n",
       "      )\n",
       "    )\n",
       "    (norm): LlamaRMSNorm((2048,), eps=1e-05)\n",
       "    (rotary_emb): LlamaRotaryEmbedding()\n",
       "  )\n",
       "  (lm_head): Linear(in_features=2048, out_features=128256, bias=False)\n",
       ")"
      ]
     },
     "execution_count": 14,
     "metadata": {},
     "output_type": "execute_result"
    }
   ],
   "source": [
    "tokenizer = AutoTokenizer.from_pretrained(\"meta-llama/Llama-3.2-1B\")\n",
    "model = AutoModelForCausalLM.from_pretrained(\"meta-llama/Llama-3.2-1B\")\n",
    "\n",
    "device = torch.device(\"cuda\" if torch.cuda.is_available() else \"cpu\")\n",
    "model.eval().to(device)\n",
    "# prompt = \"Explain the importance of reinforcement learning in AI.\"\n",
    "# inputs = tokenizer(prompt, return_tensors=\"pt\").to(device)\n",
    "# output = model.generate(\n",
    "#     **inputs,\n",
    "#     max_length=100\n",
    "# )\n",
    "\n",
    "# # Decode the output tokens into text\n",
    "# generated_text = tokenizer.decode(output[0], skip_special_tokens=True)\n",
    "\n",
    "# print(\"output:\")\n",
    "# print(generated_text)\n",
    "\n",
    "\n",
    "# Optional: configure logging"
   ]
  },
  {
   "cell_type": "code",
   "execution_count": 4,
   "id": "77a4487b",
   "metadata": {},
   "outputs": [
    {
     "name": "stderr",
     "output_type": "stream",
     "text": [
      "2025-04-30:14:06:55,405 WARNING  [lm_eval.models.huggingface:100] `pretrained` model kwarg is not of type `str`. Many other model arguments may be ignored. Please do not launch via accelerate or use `parallelize=True` if passing an existing model this way.\n",
      "2025-04-30:14:06:55,406 DEBUG    [lm_eval.models.huggingface:492] Using model type 'causal'\n",
      "2025-04-30:14:06:55,427 WARNING  [lm_eval.models.huggingface:286] Passed an already-initialized model through `pretrained`, assuming single-process call to evaluate() or custom distributed integration\n",
      "2025-04-30:14:06:55,429 INFO     [lm_eval.evaluator:169] Setting random seed to 0 | Setting numpy seed to 1234 | Setting torch manual seed to 1234 | Setting fewshot manual seed to 1234\n",
      "2025-04-30:14:06:55,429 INFO     [lm_eval.evaluator:222] Using pre-initialized model\n",
      "2025-04-30:14:06:56,221 DEBUG    [lm_eval.tasks:523] File _evalita-mp_ner_wn.yaml in /home/jaeyongjang/.conda/envs/spinquant/lib/python3.10/site-packages/lm_eval/tasks/evalita_llm could not be loaded\n",
      "2025-04-30:14:06:56,223 DEBUG    [lm_eval.tasks:523] File _evalita-mp_ner_fic.yaml in /home/jaeyongjang/.conda/envs/spinquant/lib/python3.10/site-packages/lm_eval/tasks/evalita_llm could not be loaded\n",
      "2025-04-30:14:06:56,280 DEBUG    [lm_eval.tasks:523] File _evalita-mp_ner_adg.yaml in /home/jaeyongjang/.conda/envs/spinquant/lib/python3.10/site-packages/lm_eval/tasks/evalita_llm could not be loaded\n",
      "2025-04-30:14:07:12,447 DEBUG    [lm_eval.api.task:842] No custom filters defined. Using default 'take_first' filter for handling repeats.\n",
      "2025-04-30:14:07:17,226 WARNING  [lm_eval.evaluator:275] Overwriting default num_fewshot of hellaswag from None to 0\n",
      "2025-04-30:14:07:17,227 INFO     [lm_eval.api.task:420] Building contexts for hellaswag on rank 0...\n",
      "100%|██████████| 16/16 [00:00<00:00, 3243.54it/s]\n",
      "2025-04-30:14:07:17,239 DEBUG    [lm_eval.evaluator:488] Task: hellaswag; number of requests on this rank: 64\n",
      "2025-04-30:14:07:17,239 INFO     [lm_eval.evaluator:517] Running loglikelihood requests\n",
      "Running loglikelihood requests:   0%|          | 0/64 [00:00<?, ?it/s]We detected that you are passing `past_key_values` as a tuple and this is deprecated and will be removed in v4.43. Please use an appropriate `Cache` class (https://huggingface.co/docs/transformers/v4.41.3/en/internal/generation_utils#transformers.Cache)\n",
      "Running loglikelihood requests: 100%|██████████| 64/64 [00:01<00:00, 44.78it/s]\n",
      "2025-04-30:14:07:18,712 DEBUG    [lm_eval.models.huggingface:1439] Failed to get model SHA for LlamaForCausalLM(\n",
      "  (model): LlamaModel(\n",
      "    (embed_tokens): Embedding(128256, 2048)\n",
      "    (layers): ModuleList(\n",
      "      (0-15): 16 x LlamaDecoderLayer(\n",
      "        (self_attn): LlamaSdpaAttention(\n",
      "          (q_proj): Linear(in_features=2048, out_features=2048, bias=False)\n",
      "          (k_proj): Linear(in_features=2048, out_features=512, bias=False)\n",
      "          (v_proj): Linear(in_features=2048, out_features=512, bias=False)\n",
      "          (o_proj): Linear(in_features=2048, out_features=2048, bias=False)\n",
      "          (rotary_emb): LlamaRotaryEmbedding()\n",
      "        )\n",
      "        (mlp): LlamaMLP(\n",
      "          (gate_proj): Linear(in_features=2048, out_features=8192, bias=False)\n",
      "          (up_proj): Linear(in_features=2048, out_features=8192, bias=False)\n",
      "          (down_proj): Linear(in_features=8192, out_features=2048, bias=False)\n",
      "          (act_fn): SiLU()\n",
      "        )\n",
      "        (input_layernorm): LlamaRMSNorm((2048,), eps=1e-05)\n",
      "        (post_attention_layernorm): LlamaRMSNorm((2048,), eps=1e-05)\n",
      "      )\n",
      "    )\n",
      "    (norm): LlamaRMSNorm((2048,), eps=1e-05)\n",
      "    (rotary_emb): LlamaRotaryEmbedding()\n",
      "  )\n",
      "  (lm_head): Linear(in_features=2048, out_features=128256, bias=False)\n",
      ") at revision main. Error: Repo id must be a string, not <class 'transformers.models.llama.modeling_llama.LlamaForCausalLM'>: 'LlamaForCausalLM(\n",
      "  (model): LlamaModel(\n",
      "    (embed_tokens): Embedding(128256, 2048)\n",
      "    (layers): ModuleList(\n",
      "      (0-15): 16 x LlamaDecoderLayer(\n",
      "        (self_attn): LlamaSdpaAttention(\n",
      "          (q_proj): Linear(in_features=2048, out_features=2048, bias=False)\n",
      "          (k_proj): Linear(in_features=2048, out_features=512, bias=False)\n",
      "          (v_proj): Linear(in_features=2048, out_features=512, bias=False)\n",
      "          (o_proj): Linear(in_features=2048, out_features=2048, bias=False)\n",
      "          (rotary_emb): LlamaRotaryEmbedding()\n",
      "        )\n",
      "        (mlp): LlamaMLP(\n",
      "          (gate_proj): Linear(in_features=2048, out_features=8192, bias=False)\n",
      "          (up_proj): Linear(in_features=2048, out_features=8192, bias=False)\n",
      "          (down_proj): Linear(in_features=8192, out_features=2048, bias=False)\n",
      "          (act_fn): SiLU()\n",
      "        )\n",
      "        (input_layernorm): LlamaRMSNorm((2048,), eps=1e-05)\n",
      "        (post_attention_layernorm): LlamaRMSNorm((2048,), eps=1e-05)\n",
      "      )\n",
      "    )\n",
      "    (norm): LlamaRMSNorm((2048,), eps=1e-05)\n",
      "    (rotary_emb): LlamaRotaryEmbedding()\n",
      "  )\n",
      "  (lm_head): Linear(in_features=2048, out_features=128256, bias=False)\n",
      ")'.\n"
     ]
    }
   ],
   "source": [
    "setup_logging(\"DEBUG\")\n",
    "\n",
    "hf_model = HFLM(pretrained=model, tokenizer=tokenizer)\n",
    "\n",
    "results = lm_eval.simple_evaluate(\n",
    "    model=hf_model,\n",
    "    tasks=[\"hellaswag\"],   # List of task names\n",
    "    num_fewshot=0,                 # Zero-shot by default\n",
    "    batch_size=8,\n",
    "    limit=16                     # Use full datasets\n",
    ")"
   ]
  },
  {
   "cell_type": "code",
   "execution_count": 6,
   "id": "b8989623",
   "metadata": {},
   "outputs": [
    {
     "name": "stdout",
     "output_type": "stream",
     "text": [
      "{'hellaswag': {'alias': 'hellaswag', 'acc,none': 0.4375, 'acc_stderr,none': 0.128086884574495, 'acc_norm,none': 0.5, 'acc_norm_stderr,none': 0.12909944487358055}}\n"
     ]
    }
   ],
   "source": [
    "print(results['results'])"
   ]
  },
  {
   "cell_type": "code",
   "execution_count": null,
   "id": "2cc13edb",
   "metadata": {},
   "outputs": [],
   "source": []
  },
  {
   "cell_type": "code",
   "execution_count": 15,
   "id": "28b6a941",
   "metadata": {},
   "outputs": [
    {
     "name": "stdout",
     "output_type": "stream",
     "text": [
      "Model + tokenizer saved to ./my_llama\n"
     ]
    }
   ],
   "source": [
    "from transformers import (\n",
    "    AutoConfig,\n",
    "    AutoModelForCausalLM,\n",
    "    AutoTokenizer,\n",
    ")\n",
    "\n",
    "# 1) After training or fine-tuning, you have:\n",
    "#    - `model` : a PreTrainedModel (e.g. GPT2LMHeadModel, T5ForConditionalGeneration, etc.)\n",
    "#    - `tokenizer` : its corresponding PreTrainedTokenizer\n",
    "\n",
    "# Example: load a base model, fine-tune it somehow...\n",
    "# ... your training loop here ...\n",
    "\n",
    "# 2) Choose a directory to save to (it can be local or a path for a Hub repo)\n",
    "save_directory = \"./my_llama\"\n",
    "\n",
    "# 3) Save the model + config\n",
    "model.save_pretrained(save_directory)\n",
    "#    → writes config.json and pytorch_model.bin\n",
    "\n",
    "# 4) Save the tokenizer\n",
    "tokenizer.save_pretrained(save_directory)\n",
    "#    → writes tokenizer.json (or vocab.txt + merges.txt, depending on tokenizer)\n",
    "\n",
    "print(f\"Model + tokenizer saved to {save_directory}\")"
   ]
  },
  {
   "cell_type": "code",
   "execution_count": 16,
   "id": "243f9310",
   "metadata": {},
   "outputs": [
    {
     "data": {
      "application/vnd.jupyter.widget-view+json": {
       "model_id": "f648afc1193a4636934112a21f77bebd",
       "version_major": 2,
       "version_minor": 0
      },
      "text/plain": [
       "  0%|          | 0/362 [00:00<?, ?it/s]"
      ]
     },
     "metadata": {},
     "output_type": "display_data"
    },
    {
     "name": "stderr",
     "output_type": "stream",
     "text": [
      "We detected that you are passing `past_key_values` as a tuple and this is deprecated and will be removed in v4.43. Please use an appropriate `Cache` class (https://huggingface.co/docs/transformers/v4.41.3/en/internal/generation_utils#transformers.Cache)\n"
     ]
    },
    {
     "name": "stdout",
     "output_type": "stream",
     "text": [
      "Mean perplexity: 1968.02\n"
     ]
    }
   ],
   "source": [
    "import evaluate\n",
    "from datasets import load_dataset\n",
    "\n",
    "# 1. Load the metric\n",
    "perplexity = evaluate.load(\"perplexity\", module_type=\"metric\")\n",
    "\n",
    "# 2. Load WikiText-2 test set and filter out empty lines\n",
    "dataset = load_dataset(\"wikitext\", \"wikitext-2-raw-v1\", split=\"test\")\n",
    "texts = [t for t in dataset[\"text\"] if t and not t.isspace()]\n",
    "\n",
    "# 3. Compute perplexity in one shot, letting the metric handle internal batching\n",
    "results = perplexity.compute(\n",
    "    model_id=\"./my_llama\",\n",
    "    predictions=texts,          # List[str] of input texts\n",
    "    batch_size=8,               # How many texts per device-forward\n",
    "    device=\"cuda\",              # or \"cpu\"\n",
    "    add_start_token=False       # match your use case; defaults to True\n",
    ")\n",
    "\n",
    "print(f\"Mean perplexity: {results['mean_perplexity']:.2f}\")\n",
    "# Optionally inspect per‐example scores:\n",
    "# print(results[\"perplexities\"][:5])"
   ]
  },
  {
   "cell_type": "code",
   "execution_count": null,
   "id": "925afd40",
   "metadata": {},
   "outputs": [
    {
     "data": {
      "text/plain": [
       "2891"
      ]
     },
     "execution_count": 23,
     "metadata": {},
     "output_type": "execute_result"
    },
    {
     "ename": "",
     "evalue": "",
     "output_type": "error",
     "traceback": [
      "\u001b[1;31mThe Kernel crashed while executing code in the current cell or a previous cell. \n",
      "\u001b[1;31mPlease review the code in the cell(s) to identify a possible cause of the failure. \n",
      "\u001b[1;31mClick <a href='https://aka.ms/vscodeJupyterKernelCrash'>here</a> for more info. \n",
      "\u001b[1;31mView Jupyter <a href='command:jupyter.viewOutput'>log</a> for further details."
     ]
    }
   ],
   "source": [
    "len(results[\"perplexities\"])"
   ]
  },
  {
   "cell_type": "code",
   "execution_count": null,
   "id": "4eaf4f2c",
   "metadata": {},
   "outputs": [],
   "source": []
  }
 ],
 "metadata": {
  "kernelspec": {
   "display_name": "Python 3",
   "language": "python",
   "name": "python3"
  },
  "language_info": {
   "codemirror_mode": {
    "name": "ipython",
    "version": 3
   },
   "file_extension": ".py",
   "mimetype": "text/x-python",
   "name": "python",
   "nbconvert_exporter": "python",
   "pygments_lexer": "ipython3",
   "version": "3.10.16"
  }
 },
 "nbformat": 4,
 "nbformat_minor": 5
}
